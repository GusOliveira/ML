{
 "cells": [
  {
   "cell_type": "code",
   "execution_count": 65,
   "id": "e501b534",
   "metadata": {},
   "outputs": [
    {
     "data": {
      "text/plain": [
       "'2.0.0'"
      ]
     },
     "execution_count": 65,
     "metadata": {},
     "output_type": "execute_result"
    }
   ],
   "source": [
    "import matplotlib.pyplot as plt\n",
    "import numpy as np\n",
    "import pandas as pd\n",
    "import tensorflow as tf\n",
    "from sklearn.preprocessing import LabelEncoder\n",
    "from sklearn.compose import ColumnTransformer\n",
    "from sklearn.preprocessing import OneHotEncoder\n",
    "from sklearn.model_selection import train_test_split\n",
    "from sklearn.preprocessing import StandardScaler\n",
    "from sklearn.metrics import confusion_matrix, accuracy_score\n",
    "\n",
    "tf.__version__"
   ]
  },
  {
   "cell_type": "code",
   "execution_count": 35,
   "id": "c849143e",
   "metadata": {},
   "outputs": [],
   "source": [
    "dataset = pd.read_csv('Churn_Modelling.csv')\n",
    "X = dataset.iloc[:, 3:-1].values\n",
    "y = dataset.iloc[:, -1].values"
   ]
  },
  {
   "cell_type": "markdown",
   "id": "88a8bbff",
   "metadata": {},
   "source": [
    "## ENCODING"
   ]
  },
  {
   "cell_type": "code",
   "execution_count": 36,
   "id": "85568dd3",
   "metadata": {},
   "outputs": [],
   "source": [
    "le = LabelEncoder()\n",
    "X[:, 2] = le.fit_transform(X[:, 2])\n",
    "ct = ColumnTransformer(transformers=[('encoder', OneHotEncoder(), [1])], remainder='passthrough')\n",
    "X = np.array(ct.fit_transform(X))"
   ]
  },
  {
   "cell_type": "code",
   "execution_count": 33,
   "id": "cf3ff097",
   "metadata": {},
   "outputs": [],
   "source": [
    "X_train, X_test, y_train, y_test = train_test_split(X, y, test_size=0.2, random_state=0)"
   ]
  },
  {
   "cell_type": "code",
   "execution_count": 38,
   "id": "a0eb90d1",
   "metadata": {},
   "outputs": [],
   "source": [
    "sc = StandardScaler()\n",
    "X_train = sc.fit_transform(X_train)\n",
    "X_test = sc.fit_transform(X_test)"
   ]
  },
  {
   "cell_type": "markdown",
   "id": "f85a4d3e",
   "metadata": {},
   "source": [
    "# Build the ANN"
   ]
  },
  {
   "cell_type": "code",
   "execution_count": 52,
   "id": "07af170a",
   "metadata": {},
   "outputs": [],
   "source": [
    "ann = tf.keras.models.Sequential()"
   ]
  },
  {
   "cell_type": "code",
   "execution_count": 53,
   "id": "5f7c0c11",
   "metadata": {},
   "outputs": [],
   "source": [
    "ann.add(tf.keras.layers.Dense(units=6, activation='relu'))"
   ]
  },
  {
   "cell_type": "code",
   "execution_count": 54,
   "id": "35adc76c",
   "metadata": {},
   "outputs": [],
   "source": [
    "ann.add(tf.keras.layers.Dense(units=6, activation='relu'))"
   ]
  },
  {
   "cell_type": "code",
   "execution_count": 55,
   "id": "b23816d0",
   "metadata": {},
   "outputs": [],
   "source": [
    "ann.add(tf.keras.layers.Dense(units=1, activation='sigmoid'))"
   ]
  },
  {
   "cell_type": "markdown",
   "id": "48493108",
   "metadata": {},
   "source": [
    "# Train the ANN"
   ]
  },
  {
   "cell_type": "code",
   "execution_count": 56,
   "id": "972fb3d4",
   "metadata": {},
   "outputs": [],
   "source": [
    "ann.compile(optimizer='adam', loss='binary_crossentropy', metrics=['accuracy'])"
   ]
  },
  {
   "cell_type": "code",
   "execution_count": 57,
   "id": "bba2a2d5",
   "metadata": {},
   "outputs": [
    {
     "name": "stdout",
     "output_type": "stream",
     "text": [
      "Train on 8000 samples\n",
      "Epoch 1/100\n",
      "8000/8000 [==============================] - 1s 66us/sample - loss: 0.5232 - accuracy: 0.7943\n",
      "Epoch 2/100\n",
      "8000/8000 [==============================] - 0s 24us/sample - loss: 0.4606 - accuracy: 0.7976\n",
      "Epoch 3/100\n",
      "8000/8000 [==============================] - 0s 24us/sample - loss: 0.4350 - accuracy: 0.8111\n",
      "Epoch 4/100\n",
      "8000/8000 [==============================] - 0s 25us/sample - loss: 0.4224 - accuracy: 0.8156\n",
      "Epoch 5/100\n",
      "8000/8000 [==============================] - 0s 24us/sample - loss: 0.4143 - accuracy: 0.8234\n",
      "Epoch 6/100\n",
      "8000/8000 [==============================] - 0s 24us/sample - loss: 0.4073 - accuracy: 0.8244\n",
      "Epoch 7/100\n",
      "8000/8000 [==============================] - 0s 24us/sample - loss: 0.4017 - accuracy: 0.8273\n",
      "Epoch 8/100\n",
      "8000/8000 [==============================] - 0s 24us/sample - loss: 0.3968 - accuracy: 0.8288\n",
      "Epoch 9/100\n",
      "8000/8000 [==============================] - 0s 24us/sample - loss: 0.3929 - accuracy: 0.8331\n",
      "Epoch 10/100\n",
      "8000/8000 [==============================] - 0s 24us/sample - loss: 0.3891 - accuracy: 0.8326\n",
      "Epoch 11/100\n",
      "8000/8000 [==============================] - 0s 24us/sample - loss: 0.3862 - accuracy: 0.8338\n",
      "Epoch 12/100\n",
      "8000/8000 [==============================] - 0s 24us/sample - loss: 0.3833 - accuracy: 0.8355\n",
      "Epoch 13/100\n",
      "8000/8000 [==============================] - 0s 24us/sample - loss: 0.3805 - accuracy: 0.8353\n",
      "Epoch 14/100\n",
      "8000/8000 [==============================] - 0s 24us/sample - loss: 0.3785 - accuracy: 0.8359\n",
      "Epoch 15/100\n",
      "8000/8000 [==============================] - 0s 24us/sample - loss: 0.3762 - accuracy: 0.8355\n",
      "Epoch 16/100\n",
      "8000/8000 [==============================] - 0s 24us/sample - loss: 0.3740 - accuracy: 0.8389\n",
      "Epoch 17/100\n",
      "8000/8000 [==============================] - 0s 24us/sample - loss: 0.3719 - accuracy: 0.8349\n",
      "Epoch 18/100\n",
      "8000/8000 [==============================] - 0s 24us/sample - loss: 0.3697 - accuracy: 0.8400\n",
      "Epoch 19/100\n",
      "8000/8000 [==============================] - 0s 24us/sample - loss: 0.3675 - accuracy: 0.8441\n",
      "Epoch 20/100\n",
      "8000/8000 [==============================] - 0s 24us/sample - loss: 0.3652 - accuracy: 0.8465\n",
      "Epoch 21/100\n",
      "8000/8000 [==============================] - 0s 24us/sample - loss: 0.3624 - accuracy: 0.8484\n",
      "Epoch 22/100\n",
      "8000/8000 [==============================] - 0s 24us/sample - loss: 0.3605 - accuracy: 0.8514\n",
      "Epoch 23/100\n",
      "8000/8000 [==============================] - 0s 24us/sample - loss: 0.3585 - accuracy: 0.8504\n",
      "Epoch 24/100\n",
      "8000/8000 [==============================] - 0s 24us/sample - loss: 0.3564 - accuracy: 0.8524\n",
      "Epoch 25/100\n",
      "8000/8000 [==============================] - 0s 28us/sample - loss: 0.3555 - accuracy: 0.8554\n",
      "Epoch 26/100\n",
      "8000/8000 [==============================] - 0s 27us/sample - loss: 0.3532 - accuracy: 0.8561\n",
      "Epoch 27/100\n",
      "8000/8000 [==============================] - 0s 24us/sample - loss: 0.3515 - accuracy: 0.8576\n",
      "Epoch 28/100\n",
      "8000/8000 [==============================] - 0s 24us/sample - loss: 0.3502 - accuracy: 0.8559\n",
      "Epoch 29/100\n",
      "8000/8000 [==============================] - 0s 24us/sample - loss: 0.3481 - accuracy: 0.8579\n",
      "Epoch 30/100\n",
      "8000/8000 [==============================] - 0s 24us/sample - loss: 0.3471 - accuracy: 0.8600\n",
      "Epoch 31/100\n",
      "8000/8000 [==============================] - 0s 24us/sample - loss: 0.3466 - accuracy: 0.8604\n",
      "Epoch 32/100\n",
      "8000/8000 [==============================] - 0s 24us/sample - loss: 0.3452 - accuracy: 0.8605\n",
      "Epoch 33/100\n",
      "8000/8000 [==============================] - 0s 26us/sample - loss: 0.3441 - accuracy: 0.8612\n",
      "Epoch 34/100\n",
      "8000/8000 [==============================] - 0s 24us/sample - loss: 0.3434 - accuracy: 0.8611\n",
      "Epoch 35/100\n",
      "8000/8000 [==============================] - 0s 24us/sample - loss: 0.3431 - accuracy: 0.8604\n",
      "Epoch 36/100\n",
      "8000/8000 [==============================] - 0s 24us/sample - loss: 0.3419 - accuracy: 0.8600\n",
      "Epoch 37/100\n",
      "8000/8000 [==============================] - 0s 24us/sample - loss: 0.3414 - accuracy: 0.8610\n",
      "Epoch 38/100\n",
      "8000/8000 [==============================] - 0s 24us/sample - loss: 0.3418 - accuracy: 0.8606\n",
      "Epoch 39/100\n",
      "8000/8000 [==============================] - 0s 24us/sample - loss: 0.3408 - accuracy: 0.8612\n",
      "Epoch 40/100\n",
      "8000/8000 [==============================] - 0s 27us/sample - loss: 0.3395 - accuracy: 0.8615\n",
      "Epoch 41/100\n",
      "8000/8000 [==============================] - 0s 27us/sample - loss: 0.3398 - accuracy: 0.8631\n",
      "Epoch 42/100\n",
      "8000/8000 [==============================] - 0s 29us/sample - loss: 0.3391 - accuracy: 0.8624\n",
      "Epoch 43/100\n",
      "8000/8000 [==============================] - 0s 28us/sample - loss: 0.3387 - accuracy: 0.8626\n",
      "Epoch 44/100\n",
      "8000/8000 [==============================] - 0s 29us/sample - loss: 0.3384 - accuracy: 0.8622\n",
      "Epoch 45/100\n",
      "8000/8000 [==============================] - 0s 35us/sample - loss: 0.3382 - accuracy: 0.8627\n",
      "Epoch 46/100\n",
      "8000/8000 [==============================] - 0s 28us/sample - loss: 0.3380 - accuracy: 0.8621\n",
      "Epoch 47/100\n",
      "8000/8000 [==============================] - 0s 31us/sample - loss: 0.3375 - accuracy: 0.8612\n",
      "Epoch 48/100\n",
      "8000/8000 [==============================] - 0s 35us/sample - loss: 0.3374 - accuracy: 0.8625\n",
      "Epoch 49/100\n",
      "8000/8000 [==============================] - 0s 26us/sample - loss: 0.3375 - accuracy: 0.8627\n",
      "Epoch 50/100\n",
      "8000/8000 [==============================] - 0s 26us/sample - loss: 0.3368 - accuracy: 0.8622\n",
      "Epoch 51/100\n",
      "8000/8000 [==============================] - 0s 30us/sample - loss: 0.3362 - accuracy: 0.8615\n",
      "Epoch 52/100\n",
      "8000/8000 [==============================] - 0s 36us/sample - loss: 0.3362 - accuracy: 0.8621\n",
      "Epoch 53/100\n",
      "8000/8000 [==============================] - 0s 30us/sample - loss: 0.3361 - accuracy: 0.8621\n",
      "Epoch 54/100\n",
      "8000/8000 [==============================] - 0s 26us/sample - loss: 0.3360 - accuracy: 0.8622\n",
      "Epoch 55/100\n",
      "8000/8000 [==============================] - 0s 26us/sample - loss: 0.3353 - accuracy: 0.8627\n",
      "Epoch 56/100\n",
      "8000/8000 [==============================] - 0s 26us/sample - loss: 0.3352 - accuracy: 0.8641\n",
      "Epoch 57/100\n",
      "8000/8000 [==============================] - 0s 26us/sample - loss: 0.3349 - accuracy: 0.8637\n",
      "Epoch 58/100\n",
      "8000/8000 [==============================] - 0s 28us/sample - loss: 0.3347 - accuracy: 0.8633\n",
      "Epoch 59/100\n",
      "8000/8000 [==============================] - 0s 27us/sample - loss: 0.3341 - accuracy: 0.8645\n",
      "Epoch 60/100\n",
      "8000/8000 [==============================] - 0s 37us/sample - loss: 0.3342 - accuracy: 0.8635\n",
      "Epoch 61/100\n",
      "8000/8000 [==============================] - 0s 28us/sample - loss: 0.3346 - accuracy: 0.8615\n",
      "Epoch 62/100\n",
      "8000/8000 [==============================] - 0s 26us/sample - loss: 0.3335 - accuracy: 0.8640\n",
      "Epoch 63/100\n",
      "8000/8000 [==============================] - 0s 34us/sample - loss: 0.3339 - accuracy: 0.8631\n",
      "Epoch 64/100\n",
      "8000/8000 [==============================] - 0s 32us/sample - loss: 0.3335 - accuracy: 0.8640\n",
      "Epoch 65/100\n",
      "8000/8000 [==============================] - 0s 27us/sample - loss: 0.3338 - accuracy: 0.8633\n",
      "Epoch 66/100\n",
      "8000/8000 [==============================] - 0s 26us/sample - loss: 0.3336 - accuracy: 0.8631\n",
      "Epoch 67/100\n",
      "8000/8000 [==============================] - 0s 27us/sample - loss: 0.3330 - accuracy: 0.8637\n",
      "Epoch 68/100\n",
      "8000/8000 [==============================] - 0s 37us/sample - loss: 0.3335 - accuracy: 0.8627\n",
      "Epoch 69/100\n",
      "8000/8000 [==============================] - 0s 37us/sample - loss: 0.3335 - accuracy: 0.8629\n",
      "Epoch 70/100\n",
      "8000/8000 [==============================] - 0s 27us/sample - loss: 0.3330 - accuracy: 0.8650\n",
      "Epoch 71/100\n",
      "8000/8000 [==============================] - 0s 26us/sample - loss: 0.3328 - accuracy: 0.8634\n",
      "Epoch 72/100\n",
      "8000/8000 [==============================] - 0s 27us/sample - loss: 0.3326 - accuracy: 0.8631\n",
      "Epoch 73/100\n",
      "8000/8000 [==============================] - 0s 39us/sample - loss: 0.3328 - accuracy: 0.8641\n",
      "Epoch 74/100\n",
      "8000/8000 [==============================] - 0s 39us/sample - loss: 0.3327 - accuracy: 0.8629\n",
      "Epoch 75/100\n",
      "8000/8000 [==============================] - 0s 42us/sample - loss: 0.3329 - accuracy: 0.8654\n",
      "Epoch 76/100\n",
      "8000/8000 [==============================] - 0s 39us/sample - loss: 0.3324 - accuracy: 0.8636\n",
      "Epoch 77/100\n"
     ]
    },
    {
     "name": "stdout",
     "output_type": "stream",
     "text": [
      "8000/8000 [==============================] - 0s 34us/sample - loss: 0.3326 - accuracy: 0.8633\n",
      "Epoch 78/100\n",
      "8000/8000 [==============================] - 0s 28us/sample - loss: 0.3323 - accuracy: 0.8636\n",
      "Epoch 79/100\n",
      "8000/8000 [==============================] - 0s 28us/sample - loss: 0.3321 - accuracy: 0.8644\n",
      "Epoch 80/100\n",
      "8000/8000 [==============================] - 0s 28us/sample - loss: 0.3323 - accuracy: 0.8658\n",
      "Epoch 81/100\n",
      "8000/8000 [==============================] - 0s 28us/sample - loss: 0.3315 - accuracy: 0.8645\n",
      "Epoch 82/100\n",
      "8000/8000 [==============================] - 0s 31us/sample - loss: 0.3320 - accuracy: 0.8645\n",
      "Epoch 83/100\n",
      "8000/8000 [==============================] - 0s 28us/sample - loss: 0.3313 - accuracy: 0.8639\n",
      "Epoch 84/100\n",
      "8000/8000 [==============================] - 0s 28us/sample - loss: 0.3320 - accuracy: 0.8636\n",
      "Epoch 85/100\n",
      "8000/8000 [==============================] - 0s 28us/sample - loss: 0.3315 - accuracy: 0.8640\n",
      "Epoch 86/100\n",
      "8000/8000 [==============================] - 0s 36us/sample - loss: 0.3316 - accuracy: 0.8622\n",
      "Epoch 87/100\n",
      "8000/8000 [==============================] - 0s 29us/sample - loss: 0.3316 - accuracy: 0.8650\n",
      "Epoch 88/100\n",
      "8000/8000 [==============================] - 0s 28us/sample - loss: 0.3316 - accuracy: 0.8639\n",
      "Epoch 89/100\n",
      "8000/8000 [==============================] - 0s 27us/sample - loss: 0.3317 - accuracy: 0.8648\n",
      "Epoch 90/100\n",
      "8000/8000 [==============================] - 0s 31us/sample - loss: 0.3315 - accuracy: 0.8630\n",
      "Epoch 91/100\n",
      "8000/8000 [==============================] - 0s 28us/sample - loss: 0.3310 - accuracy: 0.8622\n",
      "Epoch 92/100\n",
      "8000/8000 [==============================] - 0s 28us/sample - loss: 0.3318 - accuracy: 0.8627\n",
      "Epoch 93/100\n",
      "8000/8000 [==============================] - 0s 28us/sample - loss: 0.3312 - accuracy: 0.8645\n",
      "Epoch 94/100\n",
      "8000/8000 [==============================] - 0s 29us/sample - loss: 0.3311 - accuracy: 0.8639\n",
      "Epoch 95/100\n",
      "8000/8000 [==============================] - 0s 29us/sample - loss: 0.3311 - accuracy: 0.8629\n",
      "Epoch 96/100\n",
      "8000/8000 [==============================] - 0s 28us/sample - loss: 0.3311 - accuracy: 0.8629\n",
      "Epoch 97/100\n",
      "8000/8000 [==============================] - 0s 28us/sample - loss: 0.3307 - accuracy: 0.8664\n",
      "Epoch 98/100\n",
      "8000/8000 [==============================] - 0s 31us/sample - loss: 0.3309 - accuracy: 0.8646\n",
      "Epoch 99/100\n",
      "8000/8000 [==============================] - 0s 34us/sample - loss: 0.3308 - accuracy: 0.8645\n",
      "Epoch 100/100\n",
      "8000/8000 [==============================] - 0s 29us/sample - loss: 0.3306 - accuracy: 0.8640\n"
     ]
    },
    {
     "data": {
      "text/plain": [
       "<tensorflow.python.keras.callbacks.History at 0x7fcd062a0990>"
      ]
     },
     "execution_count": 57,
     "metadata": {},
     "output_type": "execute_result"
    }
   ],
   "source": [
    "ann.fit(X_train, y_train, batch_size=32, epochs=100)"
   ]
  },
  {
   "cell_type": "code",
   "execution_count": 59,
   "id": "94666611",
   "metadata": {},
   "outputs": [
    {
     "name": "stdout",
     "output_type": "stream",
     "text": [
      "[[False]]\n"
     ]
    }
   ],
   "source": [
    "print(ann.predict(sc.transform([[1, 0, 0, 600, 1, 40, 3, 60000, 2, 1, 1, 50000]])) > 0.5)"
   ]
  },
  {
   "cell_type": "code",
   "execution_count": 67,
   "id": "3dda986e",
   "metadata": {},
   "outputs": [
    {
     "name": "stdout",
     "output_type": "stream",
     "text": [
      "[[0 0]\n",
      " [0 1]\n",
      " [0 0]\n",
      " ...\n",
      " [0 0]\n",
      " [0 0]\n",
      " [0 0]]\n"
     ]
    }
   ],
   "source": [
    "y_pred = ann.predict(X_test)\n",
    "y_pred = (y_pred > 0.5)\n",
    "print(np.concatenate((y_pred.reshape(len(y_pred),1), y_test.reshape(len(y_test),1)),1))"
   ]
  },
  {
   "cell_type": "code",
   "execution_count": 68,
   "id": "dd5af208",
   "metadata": {},
   "outputs": [
    {
     "name": "stdout",
     "output_type": "stream",
     "text": [
      "[[1505   90]\n",
      " [ 194  211]]\n"
     ]
    },
    {
     "data": {
      "text/plain": [
       "0.858"
      ]
     },
     "execution_count": 68,
     "metadata": {},
     "output_type": "execute_result"
    }
   ],
   "source": [
    "cm = confusion_matrix(y_test, y_pred)\n",
    "print(cm)\n",
    "accuracy_score(y_test, y_pred)"
   ]
  },
  {
   "cell_type": "code",
   "execution_count": null,
   "id": "a91ab1ae",
   "metadata": {},
   "outputs": [],
   "source": []
  }
 ],
 "metadata": {
  "kernelspec": {
   "display_name": "Python 3 (ipykernel)",
   "language": "python",
   "name": "python3"
  },
  "language_info": {
   "codemirror_mode": {
    "name": "ipython",
    "version": 3
   },
   "file_extension": ".py",
   "mimetype": "text/x-python",
   "name": "python",
   "nbconvert_exporter": "python",
   "pygments_lexer": "ipython3",
   "version": "3.7.7"
  }
 },
 "nbformat": 4,
 "nbformat_minor": 5
}
